{
  "cells": [
    {
      "cell_type": "markdown",
      "metadata": {
        "id": "6wVlGMqIa-sl"
      },
      "source": [
        "# OpenAP - Estimation Fuel and Emissions"
      ]
    },
    {
      "cell_type": "markdown",
      "metadata": {
        "id": "0XX1tZBubd2X"
      },
      "source": [
        "## Install OpenAP\n"
      ]
    },
    {
      "cell_type": "code",
      "execution_count": null,
      "metadata": {
        "colab": {
          "base_uri": "https://localhost:8080/"
        },
        "id": "Gb7gisrca5Du",
        "outputId": "3a00f59a-3b7a-45ef-d44e-a7a5e8472551"
      },
      "outputs": [],
      "source": [
        "%pip install OpenAP\n",
        "%pip install cartopy"
      ]
    },
    {
      "cell_type": "markdown",
      "metadata": {},
      "source": [
        "Import packages"
      ]
    },
    {
      "cell_type": "code",
      "execution_count": null,
      "metadata": {},
      "outputs": [],
      "source": [
        "import openap\n",
        "import numpy as np\n",
        "import matplotlib.pyplot as plt\n",
        "import pandas as pd"
      ]
    },
    {
      "cell_type": "code",
      "execution_count": null,
      "metadata": {},
      "outputs": [],
      "source": [
        "flight = pd.read_csv('https://github.com/junzis/tutorial-icrat24-openap/raw/master/data/flight_a320.csv')"
      ]
    },
    {
      "cell_type": "code",
      "execution_count": null,
      "metadata": {},
      "outputs": [],
      "source": [
        "flight.head()"
      ]
    },
    {
      "cell_type": "code",
      "execution_count": null,
      "metadata": {},
      "outputs": [],
      "source": [
        "fig, (ax1, ax2, ax3) = plt.subplots(3, 1, figsize=(6, 8), sharex=True) \n",
        "\n",
        "ax1.plot(flight.time, flight.altitude, label=\"altitude\")\n",
        "ax2.plot(flight.time, flight.vertical_rate, label=\"vertical rate\")\n",
        "ax3.plot(flight.time, flight.groundspeed, label=\"groundspeed\")\n",
        "ax3.plot(flight.time, flight.true_airspeed, label=\"true airspeed\")\n",
        "for ax in (ax1, ax2, ax3):\n",
        "    ax.legend(loc=\"lower center\")\n",
        "ax3.set_xlabel(\"time [s]\")\n",
        "plt.show()"
      ]
    },
    {
      "cell_type": "code",
      "execution_count": null,
      "metadata": {},
      "outputs": [],
      "source": [
        "ff = openap.FuelFlow(ac=\"a320\")\n",
        "\n",
        "fuel_flow_estimate = ff.enroute(\n",
        "    flight.mass, flight.true_airspeed, flight.altitude, flight.vertical_rate\n",
        ")\n"
      ]
    },
    {
      "cell_type": "code",
      "execution_count": null,
      "metadata": {},
      "outputs": [],
      "source": [
        "plt.plot(flight.time, flight.fuel_flow, label=\"actual\")\n",
        "plt.plot(flight.time, fuel_flow_estimate, label=\"estimate\", alpha=0.7)\n",
        "plt.legend()\n",
        "plt.show()"
      ]
    },
    {
      "cell_type": "code",
      "execution_count": null,
      "metadata": {},
      "outputs": [],
      "source": [
        "emi = openap.Emission(ac=\"a320\")\n",
        "\n",
        "co2 = emi.co2(fuel_flow_estimate)\n",
        "h2o = emi.h2o(fuel_flow_estimate)\n",
        "soot = emi.soot(fuel_flow_estimate)\n",
        "\n",
        "nox = emi.nox(fuel_flow_estimate, flight.true_airspeed, flight.altitude)\n",
        "co = emi.co(fuel_flow_estimate, flight.true_airspeed, flight.altitude)\n",
        "hc = emi.hc(fuel_flow_estimate, flight.true_airspeed, flight.altitude)\n",
        "\n",
        "fig, axes = plt.subplots(3, 2, figsize=(12, 6), sharex=True)\n",
        "\n",
        "colors = plt.cm.tab10.colors\n",
        "gases = [co2, nox, h2o, co, soot, hc]\n",
        "labels = [\"CO2\", \"NOx\", \"H2O\", \"CO\", \"Soot\", \"HC\"]\n",
        "for i, (gas, ax) in enumerate(zip(gases, axes.flat)):\n",
        "    ax.plot(flight.time, gas, color=colors[i], label=labels[i])\n",
        "    ax.legend(loc=\"upper center\")\n",
        "    ax.tick_params(axis='y', colors=colors[i])\n",
        "for ax in axes[-1, :]:\n",
        "    ax.set_xlabel(\"time [s]\")\n"
      ]
    },
    {
      "cell_type": "markdown",
      "metadata": {},
      "source": [
        "# Estimating fuel consumption from ADS-B data"
      ]
    },
    {
      "cell_type": "code",
      "execution_count": null,
      "metadata": {},
      "outputs": [],
      "source": [
        "flight = pd.read_csv('https://github.com/junzis/tutorial-icrat24-openap/raw/master/data/hv5472_20240623.csv')"
      ]
    },
    {
      "cell_type": "code",
      "execution_count": null,
      "metadata": {},
      "outputs": [],
      "source": [
        "flight"
      ]
    },
    {
      "cell_type": "code",
      "execution_count": null,
      "metadata": {},
      "outputs": [],
      "source": [
        "import cartopy.crs as ccrs\n",
        "import cartopy.feature as cfeature\n",
        "\n",
        "fig, ax = plt.subplots(1, 1, figsize=(8, 8), subplot_kw={\"projection\": ccrs.EuroPP()})\n",
        "\n",
        "ax.add_feature(cfeature.LAND, color=\"lightgray\")\n",
        "ax.add_feature(cfeature.COASTLINE, lw=0.5, color=\"darkgray\")\n",
        "ax.add_feature(cfeature.BORDERS, lw=0.5, color=\"gray\")\n",
        "\n",
        "ax.set_extent(\n",
        "    [\n",
        "        flight.longitude.min() - 10,\n",
        "        flight.longitude.max() + 10,\n",
        "        flight.latitude.min() - 2,\n",
        "        flight.latitude.max() + 2,\n",
        "    ]\n",
        ")\n",
        "\n",
        "ax.plot(flight.longitude, flight.latitude, transform=ccrs.Geodetic(), lw=2, color=\"red\")\n",
        "plt.show()"
      ]
    },
    {
      "cell_type": "code",
      "execution_count": null,
      "metadata": {},
      "outputs": [],
      "source": [
        "import openap.prop\n",
        "\n",
        "aircraft = openap.prop.aircraft(\"B738\")\n",
        "\n",
        "ff = openap.FuelFlow(ac=\"B738\")\n",
        "\n",
        "mass_init = aircraft[\"mtow\"] * 0.9"
      ]
    },
    {
      "cell_type": "code",
      "execution_count": null,
      "metadata": {},
      "outputs": [],
      "source": [
        "mass = mass_init\n",
        "timestamp = flight.timestamp.iloc[0]\n",
        "\n",
        "fuel_flow_estimate = []\n",
        "\n",
        "for i, d in flight.iterrows():\n",
        "    ffe = ff.enroute(mass=mass, tas=d.groundspeed, alt=d.altitude, vs=d.vertical_rate)\n",
        "    mass -= ffe * d.d_time\n",
        "    fuel_flow_estimate.append(ffe)\n",
        "\n",
        "\n",
        "plt.plot(flight.timestamp, fuel_flow_estimate, label=\"fuel flow estimate (kg/s)\")\n",
        "plt.legend()\n",
        "plt.show()"
      ]
    }
  ],
  "metadata": {
    "colab": {
      "provenance": []
    },
    "kernelspec": {
      "display_name": "Python 3",
      "name": "python3"
    },
    "language_info": {
      "codemirror_mode": {
        "name": "ipython",
        "version": 3
      },
      "file_extension": ".py",
      "mimetype": "text/x-python",
      "name": "python",
      "nbconvert_exporter": "python",
      "pygments_lexer": "ipython3",
      "version": "3.11.9"
    }
  },
  "nbformat": 4,
  "nbformat_minor": 0
}
