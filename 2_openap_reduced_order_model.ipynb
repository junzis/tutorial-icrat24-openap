{
  "cells": [
    {
      "cell_type": "markdown",
      "metadata": {
        "id": "6wVlGMqIa-sl"
      },
      "source": [
        "# OpenAP-Polymer: Reduced order model for fast estimations"
      ]
    },
    {
      "cell_type": "markdown",
      "metadata": {
        "id": "0XX1tZBubd2X"
      },
      "source": [
        "## Install libraries\n"
      ]
    },
    {
      "cell_type": "code",
      "execution_count": null,
      "metadata": {
        "colab": {
          "base_uri": "https://localhost:8080/"
        },
        "id": "Gb7gisrca5Du",
        "outputId": "3a00f59a-3b7a-45ef-d44e-a7a5e8472551"
      },
      "outputs": [],
      "source": [
        "%pip install OpenAP\n",
        "%pip install seaborn\n",
        "%pip install --upgrade git+https://github.com/junzis/openap-polymer"
      ]
    },
    {
      "cell_type": "code",
      "execution_count": null,
      "metadata": {},
      "outputs": [],
      "source": [
        "from openap import polymer\n"
      ]
    },
    {
      "cell_type": "markdown",
      "metadata": {},
      "source": [
        "## Define the polymer model\n",
        "\n",
        "Choosing the A320 aircraft type"
      ]
    },
    {
      "cell_type": "code",
      "execution_count": null,
      "metadata": {},
      "outputs": [],
      "source": [
        "model = polymer.Flight(\"A320\")"
      ]
    },
    {
      "cell_type": "code",
      "execution_count": null,
      "metadata": {},
      "outputs": [],
      "source": [
        "print(model.fuel(distance=2000, mass=65000))"
      ]
    },
    {
      "cell_type": "code",
      "execution_count": null,
      "metadata": {},
      "outputs": [],
      "source": [
        "print(model.fuel(distance=3000))"
      ]
    },
    {
      "cell_type": "markdown",
      "metadata": {},
      "source": [
        "## Plot the model\n",
        "\n",
        "Fuel consumption as a function of distance and takeoff weight"
      ]
    },
    {
      "cell_type": "code",
      "execution_count": null,
      "metadata": {},
      "outputs": [],
      "source": [
        "model.plot()"
      ]
    },
    {
      "cell_type": "code",
      "execution_count": null,
      "metadata": {},
      "outputs": [],
      "source": []
    }
  ],
  "metadata": {
    "colab": {
      "provenance": []
    },
    "kernelspec": {
      "display_name": "Python 3",
      "name": "python3"
    },
    "language_info": {
      "codemirror_mode": {
        "name": "ipython",
        "version": 3
      },
      "file_extension": ".py",
      "mimetype": "text/x-python",
      "name": "python",
      "nbconvert_exporter": "python",
      "pygments_lexer": "ipython3",
      "version": "3.11.9"
    }
  },
  "nbformat": 4,
  "nbformat_minor": 0
}
