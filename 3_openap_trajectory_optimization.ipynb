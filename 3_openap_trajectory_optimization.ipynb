{
  "cells": [
    {
      "cell_type": "markdown",
      "metadata": {
        "id": "6wVlGMqIa-sl"
      },
      "source": [
        "# OpenAP-TOP: 4D flight trajectory optimizer\n"
      ]
    },
    {
      "cell_type": "markdown",
      "metadata": {
        "id": "0XX1tZBubd2X"
      },
      "source": [
        "## Install OpenAP\n"
      ]
    },
    {
      "cell_type": "code",
      "execution_count": null,
      "metadata": {
        "colab": {
          "base_uri": "https://localhost:8080/"
        },
        "id": "Gb7gisrca5Du",
        "outputId": "3a00f59a-3b7a-45ef-d44e-a7a5e8472551"
      },
      "outputs": [],
      "source": [
        "%pip install openap\n",
        "%pip install openap-top\n",
        "%pip install cfgrib\n",
        "%pip install ecmwflibs"
      ]
    },
    {
      "cell_type": "code",
      "execution_count": null,
      "metadata": {},
      "outputs": [],
      "source": [
        "import warnings\n",
        "import matplotlib.pyplot as plt\n",
        "from openap import top\n",
        "import numpy as np\n",
        "import pandas as pd\n",
        "from openap import aero\n",
        "\n",
        "import cartopy.feature as cf\n",
        "import cartopy.crs as ccrs\n",
        "from openap import aero\n",
        "\n",
        "warnings.filterwarnings(\"ignore\")"
      ]
    },
    {
      "cell_type": "code",
      "execution_count": null,
      "metadata": {},
      "outputs": [],
      "source": [
        "actype = \"A320\"\n",
        "origin = \"EHAM\"\n",
        "destination = \"LGAV\"\n",
        "\n",
        "m0 = 0.85  # initial mass, faction of the maximum takeoff weight"
      ]
    },
    {
      "cell_type": "markdown",
      "metadata": {},
      "source": [
        "## Define trip type\n",
        "\n",
        "- `top.CompleteFlight()`: full trajectory, non-phase specific\n",
        "- `top.Multiphase()`: full trajectory, including climbing, cruise, and descent\n",
        "- `top.Climb()`\n",
        "- `top.Cruise()`\n",
        "- `top.Descent()`\n"
      ]
    },
    {
      "cell_type": "code",
      "execution_count": null,
      "metadata": {},
      "outputs": [],
      "source": [
        "optimizer = top.CompleteFlight(actype, origin, destination, m0)\n",
        "flight = optimizer.trajectory(objective=\"fuel\")"
      ]
    },
    {
      "cell_type": "markdown",
      "metadata": {},
      "source": [
        "You can visualize the trajectory quickly with the `vis.trajectory()` function\n"
      ]
    },
    {
      "cell_type": "code",
      "execution_count": null,
      "metadata": {},
      "outputs": [],
      "source": [
        "top.vis.trajectory(flight)\n",
        "plt.show()"
      ]
    },
    {
      "cell_type": "markdown",
      "metadata": {},
      "source": [
        "## Examples of different trajectories\n",
        "\n",
        "### Multi-phase\n"
      ]
    },
    {
      "cell_type": "code",
      "execution_count": null,
      "metadata": {},
      "outputs": [],
      "source": [
        "optimizer = top.MultiPhase(actype, origin, destination, m0)\n",
        "flight = optimizer.trajectory(objective=\"fuel\")\n",
        "\n",
        "top.vis.trajectory(flight)\n",
        "plt.show()"
      ]
    },
    {
      "cell_type": "markdown",
      "metadata": {},
      "source": [
        "### Cruise phase only\n"
      ]
    },
    {
      "cell_type": "code",
      "execution_count": null,
      "metadata": {},
      "outputs": [],
      "source": [
        "optimizer = top.Cruise(actype, origin, destination, m0)\n",
        "flight = optimizer.trajectory(objective=\"fuel\")\n",
        "\n",
        "top.vis.trajectory(flight)\n",
        "plt.show()"
      ]
    },
    {
      "cell_type": "markdown",
      "metadata": {},
      "source": [
        "### Cruise phase only - with fixed altitude\n"
      ]
    },
    {
      "cell_type": "code",
      "execution_count": null,
      "metadata": {},
      "outputs": [],
      "source": [
        "optimizer = top.Cruise(actype, origin, destination, m0)\n",
        "optimizer.fix_cruise_altitude()\n",
        "flight = optimizer.trajectory(objective=\"fuel\")\n",
        "\n",
        "top.vis.trajectory(flight)\n",
        "plt.show()"
      ]
    },
    {
      "cell_type": "markdown",
      "metadata": {},
      "source": [
        "## Using different built-in objective functions\n",
        "\n",
        "In the following section, we text different objective functions, inlcuding:\n",
        "- fuel consumption\n",
        "- cost index, between 0 (fuel optimal) and 100 (time optimal)\n",
        "- global warming potential, 100 years\n",
        "- global temperature potential, 100 years\n"
      ]
    },
    {
      "cell_type": "code",
      "execution_count": null,
      "metadata": {},
      "outputs": [],
      "source": [
        "optimizer = top.CompleteFlight(actype, origin, destination, m0)"
      ]
    },
    {
      "cell_type": "markdown",
      "metadata": {},
      "source": [
        "### Optimize for fuel consumption"
      ]
    },
    {
      "cell_type": "code",
      "execution_count": null,
      "metadata": {},
      "outputs": [],
      "source": [
        "flight = optimizer.trajectory(objective=\"fuel\")\n",
        "top.vis.trajectory(flight)\n",
        "plt.show()"
      ]
    },
    {
      "cell_type": "markdown",
      "metadata": {},
      "source": [
        "### Optimize for a cost index"
      ]
    },
    {
      "cell_type": "code",
      "execution_count": null,
      "metadata": {},
      "outputs": [],
      "source": [
        "flight = optimizer.trajectory(objective=\"ci:60\")\n",
        "top.vis.trajectory(flight)\n",
        "plt.show()"
      ]
    },
    {
      "cell_type": "markdown",
      "metadata": {},
      "source": [
        "### Optimize for global warming potential"
      ]
    },
    {
      "cell_type": "code",
      "execution_count": null,
      "metadata": {},
      "outputs": [],
      "source": [
        "flight = optimizer.trajectory(objective=\"gwp100\")\n",
        "top.vis.trajectory(flight)\n",
        "plt.show()"
      ]
    },
    {
      "cell_type": "markdown",
      "metadata": {},
      "source": [
        "### Optimize for global temperature potential"
      ]
    },
    {
      "cell_type": "code",
      "execution_count": null,
      "metadata": {},
      "outputs": [],
      "source": [
        "flight = optimizer.trajectory(objective=\"gtp100\")\n",
        "top.vis.trajectory(flight)\n",
        "plt.show()"
      ]
    },
    {
      "cell_type": "markdown",
      "metadata": {},
      "source": [
        "### Specify different objective functions for different phases\n",
        "\n",
        "You can specify different objective functions for different phases. For example, different cost index for climbing, cruising, and descending."
      ]
    },
    {
      "cell_type": "code",
      "execution_count": null,
      "metadata": {},
      "outputs": [],
      "source": [
        "optimizer = top.MultiPhase(actype, origin, destination, m0)\n",
        "flight = optimizer.trajectory(objective=(\"ci:60\", \"ci:10\", \"ci:20\"))  # Multiphase\n",
        "top.vis.trajectory(flight)\n",
        "plt.show()"
      ]
    },
    {
      "cell_type": "markdown",
      "metadata": {},
      "source": [
        "# With wind\n",
        "\n",
        "Wind data can be included in the optimization. The wind data can be in the form of a grib file.\n",
        "\n",
        "Download example wind grib file at: https://surfdrive.surf.nl/files/index.php/s/iGaqQ7YS3FIJB7f/download"
      ]
    },
    {
      "cell_type": "markdown",
      "metadata": {},
      "source": [
        "### Download the data"
      ]
    },
    {
      "cell_type": "code",
      "execution_count": null,
      "metadata": {},
      "outputs": [],
      "source": [
        "!mkdir -p data\n",
        "!wget https://surfdrive.surf.nl/files/index.php/s/iGaqQ7YS3FIJB7f/download -O \"data/era5_2021_05_01_0800.grib\"\n"
      ]
    },
    {
      "cell_type": "code",
      "execution_count": null,
      "metadata": {},
      "outputs": [],
      "source": [
        "fgrib = \"data/era5_2021_05_01_0800.grib\"\n",
        "\n",
        "windfield = top.tools.read_grib(fgrib)\n",
        "\n",
        "optimizer = top.CompleteFlight(\"A320\", \"EHAM\", \"LEMD\", m0=0.85)\n",
        "optimizer.enable_wind(windfield)\n",
        "\n",
        "flight = optimizer.trajectory(objective=\"fuel\")"
      ]
    },
    {
      "cell_type": "code",
      "execution_count": null,
      "metadata": {},
      "outputs": [],
      "source": [
        "top.vis.trajectory(flight)\n",
        "plt.show()"
      ]
    },
    {
      "cell_type": "code",
      "execution_count": null,
      "metadata": {},
      "outputs": [],
      "source": [
        "\n",
        "\n",
        "lat1, lon1 = flight.latitude.iloc[0], flight.longitude.iloc[0]\n",
        "lat2, lon2 = flight.latitude.iloc[-1], flight.longitude.iloc[-1]\n",
        "\n",
        "latmin, latmax = min(lat1, lat2), max(lat1, lat2)\n",
        "lonmin, lonmax = min(lon1, lon2), max(lon1, lon2)\n",
        "\n",
        "ax = plt.axes(\n",
        "    projection=ccrs.TransverseMercator(\n",
        "        central_longitude=flight.longitude.mean(), central_latitude=flight.latitude.mean()\n",
        "    )\n",
        ")\n",
        "\n",
        "ax.set_extent([lonmin - 4, lonmax + 4, latmin - 2, latmax + 2])\n",
        "ax.add_feature(cf.LAND, facecolor=\"#f5f5f5\", lw=0)\n",
        "ax.add_feature(cf.BORDERS, lw=0.5, color=\"gray\")\n",
        "ax.gridlines(draw_labels=True, color=\"gray\", alpha=0.5, ls=\"--\")\n",
        "ax.coastlines(resolution=\"50m\", lw=0.5, color=\"gray\")\n",
        "\n",
        "if windfield is not None:\n",
        "    # get the closed altitude\n",
        "    h_ = flight.altitude.median() * aero.ft\n",
        "    fl = int(round(h_ / aero.ft / 100, -1))\n",
        "    idx = np.argmin(abs(windfield.h.unique() - h_))\n",
        "    windfield = (\n",
        "        windfield.query(f\"h=={windfield.h.unique()[idx]}\")\n",
        "        .query(f\"longitude <= {lonmax + 2}\")\n",
        "        .query(f\"longitude >= {lonmin - 2}\")\n",
        "        .query(f\"latitude <= {latmax + 2}\")\n",
        "        .query(f\"latitude >= {latmin - 2}\")\n",
        "    )\n",
        "\n",
        "    ax.barbs(\n",
        "        windfield.longitude.values[::15],\n",
        "        windfield.latitude.values[::15],\n",
        "        windfield.u.values[::15],\n",
        "        windfield.v.values[::15],\n",
        "        transform=ccrs.PlateCarree(),\n",
        "        color=\"k\",\n",
        "        length=5,\n",
        "        lw=0.5,\n",
        "        label=f\"Wind FL{fl}\",\n",
        "    )\n",
        "\n",
        "# great circle\n",
        "ax.scatter(lon1, lat1, c=\"darkgreen\", transform=ccrs.Geodetic())\n",
        "ax.scatter(lon2, lat2, c=\"tab:red\", transform=ccrs.Geodetic())\n",
        "\n",
        "ax.plot(\n",
        "    [lon1, lon2],\n",
        "    [lat1, lat2],\n",
        "    label=\"Great Circle\",\n",
        "    color=\"tab:red\",\n",
        "    ls=\"--\",\n",
        "    transform=ccrs.Geodetic(),\n",
        ")\n",
        "\n",
        "# trajectory\n",
        "ax.plot(\n",
        "    flight.longitude,\n",
        "    flight.latitude,\n",
        "    color=\"tab:green\",\n",
        "    transform=ccrs.Geodetic(),\n",
        "    linewidth=3,\n",
        "    label=\"Optimal\",\n",
        ")\n",
        "\n",
        "ax.legend()\n",
        "\n",
        "plt.show()\n"
      ]
    },
    {
      "cell_type": "markdown",
      "metadata": {},
      "source": [
        "# More complex optimization - 4D Cost functions\n"
      ]
    },
    {
      "cell_type": "markdown",
      "metadata": {},
      "source": [
        "## Define objective function\n",
        "\n",
        "Here I am using a 2D gaussian function to simulate a most complex cost gird. The 2D gaussian function is repeated for different flight levels, and shifted in time along the x-axis at different time. \n"
      ]
    },
    {
      "cell_type": "code",
      "execution_count": null,
      "metadata": {},
      "outputs": [],
      "source": [
        "def gaussian(x, y):\n",
        "    return -np.exp(-(x**2) - y**2)\n",
        "\n",
        "# search ranges for the hump functions\n",
        "x = np.linspace(-2, 2, 50)\n",
        "y = np.linspace(-1, 1, 50)\n",
        "z = np.linspace(0, 13_000, 10)\n",
        "ts = np.arange(0, 4 * 3600, 3600)\n",
        "\n",
        "X, Y, Z = np.meshgrid(x, y, z)\n",
        "\n",
        "V = np.zeros((len(x), len(y), len(z), len(ts)))\n",
        "\n",
        "# shift the minima with time\n",
        "for i, ts_ in enumerate(ts):\n",
        "    v = gaussian(X - i * 0.5, Y)\n",
        "    V[:, :, :, i] = v\n",
        "\n",
        "V = V - V.min()\n",
        "\n",
        "# re-scale to our lon/lat grid\n",
        "x_ = np.interp(x, (min(x), max(x)), (-10, 30))\n",
        "y_ = np.interp(y, (min(y), max(y)), (35, 60))\n",
        "X, Y, Z, TS = np.meshgrid(x_, y_, z, ts)\n"
      ]
    },
    {
      "cell_type": "markdown",
      "metadata": {},
      "source": [
        "## Visualize the cost grid\n",
        "\n",
        "Note: the cost is the same for all flight levels"
      ]
    },
    {
      "cell_type": "code",
      "execution_count": null,
      "metadata": {},
      "outputs": [],
      "source": [
        "\n",
        "fig, axes = plt.subplots(1, 4, figsize=(8, 6), subplot_kw={\"projection\": \"3d\"})\n",
        "axes = axes.flatten()\n",
        "\n",
        "for i in range(len(ts)):\n",
        "    ax = axes[i]\n",
        "    ax.plot_surface(\n",
        "        X[:, :, 0, i],\n",
        "        Y[:, :, 0, i],\n",
        "        V[:, :, 0, i],\n",
        "        edgecolor=\"tab:blue\",\n",
        "        lw=0.5,\n",
        "        alpha=0.3,\n",
        "    )\n",
        "    ax.set_title(f\"t = {i} h\")\n",
        "\n",
        "plt.tight_layout()\n",
        "plt.show()"
      ]
    },
    {
      "cell_type": "code",
      "execution_count": null,
      "metadata": {},
      "outputs": [],
      "source": [
        "fig, axes = plt.subplots(\n",
        "    1,\n",
        "    4,\n",
        "    figsize=(12, 4),\n",
        "    subplot_kw=dict(\n",
        "        projection=ccrs.TransverseMercator(central_longitude=10, central_latitude=50)\n",
        "    ),\n",
        ")\n",
        "\n",
        "\n",
        "for t in range(len(ts)):\n",
        "    ax = axes[t]\n",
        "    ax.set_title(f\"t = {t} h\")\n",
        "    ax.set_extent([-10, 30, 35, 60])\n",
        "    ax.add_feature(cf.BORDERS, lw=0.5, color=\"gray\")\n",
        "    ax.coastlines(resolution=\"50m\", lw=0.5, color=\"gray\")\n",
        "\n",
        "    ax.contourf(\n",
        "        X[:, :, 0, t],\n",
        "        Y[:, :, 0, t],\n",
        "        V[:, :, 0, t],\n",
        "        transform=ccrs.PlateCarree(),\n",
        "        alpha=0.7,\n",
        "        cmap=\"viridis\",\n",
        "        levels=50,\n",
        "    )\n",
        "\n",
        "plt.tight_layout()\n",
        "plt.show()"
      ]
    },
    {
      "cell_type": "markdown",
      "metadata": {},
      "source": [
        "## construct the cost data frame\n",
        "\n",
        "Now we construct the cost data, which should have the same structure as follows\n"
      ]
    },
    {
      "cell_type": "code",
      "execution_count": null,
      "metadata": {},
      "outputs": [],
      "source": [
        "df_cost = pd.DataFrame(\n",
        "    np.array([X, Y, Z, TS, V]).reshape(5, -1).T,\n",
        "    columns=[\"longitude\", \"latitude\", \"h\", \"ts\", \"cost\"],\n",
        ").sort_values([\"ts\", \"h\", \"latitude\", \"longitude\"], ascending=True)\n",
        "\n",
        "df_cost"
      ]
    },
    {
      "cell_type": "markdown",
      "metadata": {},
      "source": [
        "## Set up the new objective function\n",
        "\n",
        "General steps to set you own objective function / cost grid:\n",
        "\n",
        "1. generate the interpolate model (linear) based on the grid data\n",
        "2. define the objective function\n",
        "3. pass the new objective function and interplant model to optimizer's `trajectory()` generator\n",
        "\n",
        "(Note: this process can take a while, ~1 minute with a modern computer)\n"
      ]
    },
    {
      "cell_type": "code",
      "execution_count": null,
      "metadata": {},
      "outputs": [],
      "source": [
        "optimizer = top.Cruise(\"A320\", \"EHAM\", \"LGAV\", m0=0.85)\n",
        "optimizer.init_conditions(h_min=32_000 * aero.ft, h_max=36_000 * aero.ft)\n",
        "optimizer.fix_cruise_altitude()\n",
        "optimizer.setup_dc(nodes=40)\n",
        "optimizer.debug = False\n",
        "\n",
        "# the inpterpolant required for the cost grid\n",
        "interpolant = top.tools.interp_grid(\n",
        "    df_cost.longitude.unique(),\n",
        "    df_cost.latitude.unique(),\n",
        "    df_cost.h.unique(),\n",
        "    df_cost.ts.unique(),\n",
        "    df_cost.cost,\n",
        "    shape=\"linear\",\n",
        ")\n",
        "\n",
        "\n",
        "def obj_grid(x, u, dt, **kwargs):\n",
        "    \"\"\"The final cost is the compound of the 4d grid cost and fuel\"\"\"\n",
        "    # grid cost unit is: cost/time\n",
        "    grid_cost = optimizer.obj_grid_cost(x, u, dt, **kwargs) * dt\n",
        "    fuel_cost = optimizer.obj_fuel(x, u, dt, **kwargs)\n",
        "    return grid_cost * 2 + fuel_cost\n",
        "\n",
        "\n",
        "# generate the flight trajectory\n",
        "# interpolant is passed to trajectory() and then to obj_grid() internally\n",
        "flight = optimizer.trajectory(\n",
        "    objective=obj_grid,\n",
        "    interpolant=interpolant,\n",
        "    h_min=32_000 * aero.ft,\n",
        "    h_max=36_000 * aero.ft,\n",
        ")"
      ]
    },
    {
      "cell_type": "markdown",
      "metadata": {},
      "source": [
        "## Visualize the trajectory\n"
      ]
    },
    {
      "cell_type": "code",
      "execution_count": null,
      "metadata": {},
      "outputs": [],
      "source": [
        "top.vis.trajectory(flight)\n",
        "plt.show()"
      ]
    },
    {
      "cell_type": "markdown",
      "metadata": {},
      "source": [
        "### Visualize the projected 4D cost along the trajectory\n"
      ]
    },
    {
      "cell_type": "code",
      "execution_count": null,
      "metadata": {},
      "outputs": [],
      "source": [
        "fig, axes = plt.subplots(\n",
        "    1,\n",
        "    3,\n",
        "    figsize=(12, 6),\n",
        "    subplot_kw=dict(\n",
        "        projection=ccrs.TransverseMercator(central_longitude=10, central_latitude=50)\n",
        "    ),\n",
        ")\n",
        "\n",
        "for t in range(3):\n",
        "    ax = axes[t]\n",
        "    ax.set_extent([-10, 30, 35, 60])\n",
        "    ax.add_feature(cf.BORDERS, lw=0.5, color=\"gray\")\n",
        "    ax.coastlines(resolution=\"50m\", lw=0.5, color=\"gray\")\n",
        "\n",
        "    df_cost_pivot = df_cost.query(f\"h==0 and ts=={t*3600}\").pivot(\n",
        "        index=\"latitude\", columns=\"longitude\", values=\"cost\"\n",
        "    )\n",
        "\n",
        "    lat, lon, val = (\n",
        "        df_cost_pivot.index.values,\n",
        "        df_cost_pivot.columns.values,\n",
        "        df_cost_pivot.values,\n",
        "    )\n",
        "\n",
        "    ax.contourf(\n",
        "        lon,\n",
        "        lat,\n",
        "        val,\n",
        "        transform=ccrs.PlateCarree(),\n",
        "        alpha=0.7,\n",
        "        cmap=\"viridis\",\n",
        "        levels=50,\n",
        "    )\n",
        "\n",
        "    current_data = flight.query(f\"{t*3600}<ts<{t*3600+600}\").iloc[0]\n",
        "\n",
        "    ax.scatter(\n",
        "        current_data.longitude,\n",
        "        current_data.latitude,\n",
        "        color=\"r\",\n",
        "        lw=2,\n",
        "        transform=ccrs.PlateCarree(),\n",
        "    )\n",
        "\n",
        "    ax.plot(\n",
        "        flight.longitude, flight.latitude, color=\"k\", lw=1, transform=ccrs.PlateCarree()\n",
        "    )\n",
        "\n",
        "    ax.scatter(\n",
        "        flight.longitude.iloc[0],\n",
        "        flight.latitude.iloc[0],\n",
        "        c=\"k\",\n",
        "        transform=ccrs.PlateCarree(),\n",
        "    )\n",
        "    ax.scatter(\n",
        "        flight.longitude.iloc[-1],\n",
        "        flight.latitude.iloc[-1],\n",
        "        c=\"k\",\n",
        "        transform=ccrs.PlateCarree(),\n",
        "    )\n",
        "\n",
        "plt.tight_layout()\n",
        "plt.show()"
      ]
    }
  ],
  "metadata": {
    "colab": {
      "provenance": []
    },
    "kernelspec": {
      "display_name": "Python 3",
      "name": "python3"
    },
    "language_info": {
      "codemirror_mode": {
        "name": "ipython",
        "version": 3
      },
      "file_extension": ".py",
      "mimetype": "text/x-python",
      "name": "python",
      "nbconvert_exporter": "python",
      "pygments_lexer": "ipython3",
      "version": "3.11.9"
    }
  },
  "nbformat": 4,
  "nbformat_minor": 0
}
